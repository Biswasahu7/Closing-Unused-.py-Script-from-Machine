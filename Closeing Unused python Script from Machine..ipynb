{
 "cells": [
  {
   "cell_type": "code",
   "execution_count": 1,
   "metadata": {},
   "outputs": [],
   "source": [
    "# importing libraries\n",
    "import subprocess\n",
    "import os\n",
    "import datetime\n",
    "import signal"
   ]
  },
  {
   "cell_type": "code",
   "execution_count": 2,
   "metadata": {},
   "outputs": [],
   "source": [
    "def list_command(args='-ef'):\n",
    "    \n",
    "    # the ls ubuntu command\n",
    "    cmd = 'ps'\n",
    "    \n",
    "    # using the Popen function to execute the command and store the result in temp.\n",
    "    # it returns a tuple that contains the data and the error if any.\n",
    "    temp = subprocess.Popen([cmd,args], stdout=subprocess.PIPE)\n",
    "    \n",
    "    # we use the communicate function to fetch the output\n",
    "    output = str(temp.communicate())\n",
    "    \n",
    "    #splitting the output so that we can parse them line by line\n",
    "    output = output.split(\"\\n\")\n",
    "    output = output[0].split('\\\\')\n",
    "    \n",
    "     # a variable to store the output\n",
    "    res = []\n",
    "    \n",
    "    # iterate through the output line by line\n",
    "    for line in output:\n",
    "        res.append(line)\n",
    "        \n",
    "    # print the output\n",
    "    py=[]\n",
    "    \n",
    "    for i in range(1, len(res) - 1):\n",
    "        if \"/usr/bin/python3.8\" in res[i]:\n",
    "            temp=res[i].split()\n",
    "            py.append(temp)\n",
    "            \n",
    "        # if \"check_python_processes.py\" in res[i]: print(\"ITS PYTHON PROCESS RUNNING...\")\n",
    "        print(res[i])\n",
    "     #Printing python script   \n",
    "    print(\"Its python scripts - {}-{}\".format(len(py),py))\n",
    "    \n",
    "    #Assigning pid empty list to append other python script to kill\n",
    "    pid=[]\n",
    "    \n",
    "    #Running for loop into py list to varifiy our required python script which is running\n",
    "    for p in py:\n",
    "        \n",
    "        #If our required python script is the no matching then append the script to pid list\n",
    "        if \"/home/server/OCR/check_python_processes.py\" not in p:\n",
    "            pid.append(p[1])\n",
    "    \n",
    "    #After appending all unnecessary python script kill all\n",
    "    print(\"Kill PIDs-{}\".format(pid))\n",
    "    \n",
    "    \n",
    "    if len(pid)>0:\n",
    "        for p in pid:\n",
    "            os.kill(int(p), signal.SIGTERM)  # or signal.SIGKILL\n",
    "    print(\"DONE...\")\n",
    "    \n",
    "    return res\n",
    "\n",
    "#list_command()"
   ]
  },
  {
   "cell_type": "code",
   "execution_count": null,
   "metadata": {},
   "outputs": [],
   "source": []
  }
 ],
 "metadata": {
  "kernelspec": {
   "display_name": "Python 3",
   "language": "python",
   "name": "python3"
  },
  "language_info": {
   "codemirror_mode": {
    "name": "ipython",
    "version": 3
   },
   "file_extension": ".py",
   "mimetype": "text/x-python",
   "name": "python",
   "nbconvert_exporter": "python",
   "pygments_lexer": "ipython3",
   "version": "3.8.5"
  }
 },
 "nbformat": 4,
 "nbformat_minor": 4
}
